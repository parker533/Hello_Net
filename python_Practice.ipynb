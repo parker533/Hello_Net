{
  "nbformat": 4,
  "nbformat_minor": 0,
  "metadata": {
    "colab": {
      "provenance": [],
      "include_colab_link": true
    },
    "kernelspec": {
      "name": "python3",
      "display_name": "Python 3"
    }
  },
  "cells": [
    {
      "cell_type": "markdown",
      "metadata": {
        "id": "view-in-github",
        "colab_type": "text"
      },
      "source": [
        "<a href=\"https://colab.research.google.com/github/parker533/Hello_Net/blob/master/python_Practice.ipynb\" target=\"_parent\"><img src=\"https://colab.research.google.com/assets/colab-badge.svg\" alt=\"Open In Colab\"/></a>"
      ]
    },
    {
      "cell_type": "code",
      "metadata": {
        "id": "k-DFUPcxNC4P",
        "colab": {
          "base_uri": "https://localhost:8080/",
          "height": 72
        },
        "outputId": "00ce0543-4603-4a44-b75d-38ff69eac9bf"
      },
      "source": [
        "Name= input(\"What is your name: \")\n",
        "color= input(\"What is your favorite color: \")\n",
        "message= f'{Name} like {color}'\n",
        "print(message)"
      ],
      "execution_count": null,
      "outputs": [
        {
          "output_type": "stream",
          "text": [
            "What is your name: calvin\n",
            "What is your favorite color: blue\n",
            "calvin like blue\n"
          ],
          "name": "stdout"
        }
      ]
    },
    {
      "cell_type": "markdown",
      "source": [],
      "metadata": {
        "id": "9wABtSt6jpdd"
      }
    },
    {
      "cell_type": "code",
      "source": [
        "Name= input(\"What is your name: \")\n",
        "color= input(\"What is your favorite color: \")\n",
        "message= f'{Name} like {color}'\n",
        "print(message)"
      ],
      "metadata": {
        "colab": {
          "base_uri": "https://localhost:8080/"
        },
        "id": "FloU1K3FLNF_",
        "outputId": "78c7cf0a-f138-433d-f731-baa93f14080e"
      },
      "execution_count": null,
      "outputs": [
        {
          "output_type": "stream",
          "name": "stdout",
          "text": [
            "What is your name: Calvin\n",
            "What is your favorite color: blue\n",
            "Calvin like blue\n"
          ]
        }
      ]
    },
    {
      "cell_type": "code",
      "metadata": {
        "id": "Ti1Bwc8O-pD3"
      },
      "source": [
        "Name= input(\"What is your name: \")\n",
        "color"
      ],
      "execution_count": null,
      "outputs": []
    },
    {
      "cell_type": "code",
      "metadata": {
        "id": "_jdC2iJhVauS",
        "colab": {
          "base_uri": "https://localhost:8080/",
          "height": 54
        },
        "outputId": "02eacbd4-e1d3-41a1-ffbd-6c5a6d6c6f57"
      },
      "source": [
        "Birth_year= input(\"What is your birth year ?: \")\n",
        "Age= 2019-int(Birth_year)\n",
        "print(Age)"
      ],
      "execution_count": null,
      "outputs": [
        {
          "output_type": "stream",
          "text": [
            "What is your birth year ?: 2000\n",
            "19\n"
          ],
          "name": "stdout"
        }
      ]
    },
    {
      "cell_type": "code",
      "source": [],
      "metadata": {
        "id": "gNSfKkqYPGtt"
      },
      "execution_count": null,
      "outputs": []
    },
    {
      "cell_type": "code",
      "metadata": {
        "id": "AO_S61WAW0bJ",
        "colab": {
          "base_uri": "https://localhost:8080/",
          "height": 35
        },
        "outputId": "4e1ea810-09f3-4700-b0f9-56be7e7e19af"
      },
      "source": [
        "First_name= 'John'\n",
        "Last_name= 'Smith'\n",
        "message= f'{First_name} [{Last_name}] is a coder'\n",
        "print(message[1:])"
      ],
      "execution_count": null,
      "outputs": [
        {
          "output_type": "stream",
          "text": [
            "ohn [Smith] is a coder\n"
          ],
          "name": "stdout"
        }
      ]
    },
    {
      "cell_type": "code",
      "metadata": {
        "id": "cXZRWN87erXE",
        "colab": {
          "base_uri": "https://localhost:8080/"
        },
        "outputId": "c33c8764-b642-497b-e0a0-edd36842cd12"
      },
      "source": [
        "name= 'John'\n",
        "print(len(name))\n",
        "print(name.upper())\n",
        "print(name.replace('John','calvin'))\n",
        "print('John' in name)"
      ],
      "execution_count": null,
      "outputs": [
        {
          "output_type": "stream",
          "name": "stdout",
          "text": [
            "4\n",
            "JOHN\n",
            "calvin\n",
            "True\n"
          ]
        }
      ]
    },
    {
      "cell_type": "markdown",
      "metadata": {
        "id": "zcGsEeYaGJOF"
      },
      "source": [
        "The stuff below is the study of arithmeric operations"
      ]
    },
    {
      "cell_type": "code",
      "metadata": {
        "id": "s9AMwaiQ_ktc"
      },
      "source": [],
      "execution_count": null,
      "outputs": []
    },
    {
      "cell_type": "code",
      "metadata": {
        "id": "4A7vL7hEGc0b",
        "colab": {
          "base_uri": "https://localhost:8080/",
          "height": 91
        },
        "outputId": "ff8632fc-05ed-43cb-c9db-9e72ced9222a"
      },
      "source": [
        "print(50/3)\n",
        "print(50//3)\n",
        "print(50 % 3)\n",
        "print(12**2)"
      ],
      "execution_count": null,
      "outputs": [
        {
          "output_type": "stream",
          "text": [
            "16.666666666666668\n",
            "16\n",
            "2\n",
            "144\n"
          ],
          "name": "stdout"
        }
      ]
    },
    {
      "cell_type": "code",
      "metadata": {
        "id": "t1ts-AzEKqxU",
        "colab": {
          "base_uri": "https://localhost:8080/",
          "height": 35
        },
        "outputId": "f88a3a61-32a5-43bc-91e0-b22528f70593"
      },
      "source": [
        "x=10\n",
        "x=5+x\n",
        "x+=3\n",
        "print(x)"
      ],
      "execution_count": null,
      "outputs": [
        {
          "output_type": "stream",
          "text": [
            "18\n"
          ],
          "name": "stdout"
        }
      ]
    },
    {
      "cell_type": "code",
      "metadata": {
        "id": "NfCtnQSrM56p",
        "colab": {
          "base_uri": "https://localhost:8080/"
        },
        "outputId": "c4eff47e-a992-47ad-975a-a04124323d28"
      },
      "source": [
        "x=10\n",
        "x*=4\n",
        "print(x)\n"
      ],
      "execution_count": null,
      "outputs": [
        {
          "output_type": "stream",
          "name": "stdout",
          "text": [
            "40\n"
          ]
        }
      ]
    },
    {
      "cell_type": "code",
      "metadata": {
        "id": "ZHWNH5LhNo-W",
        "colab": {
          "base_uri": "https://localhost:8080/",
          "height": 54
        },
        "outputId": "0ecfed71-2a61-4f91-f0fd-7f75e9da05d6"
      },
      "source": [
        "x=-1.5\n",
        "print(abs(x))\n",
        "print(round(x))"
      ],
      "execution_count": null,
      "outputs": [
        {
          "output_type": "stream",
          "text": [
            "1.5\n",
            "-2\n"
          ],
          "name": "stdout"
        }
      ]
    },
    {
      "cell_type": "code",
      "metadata": {
        "id": "jRuMZRyaYRP8",
        "colab": {
          "base_uri": "https://localhost:8080/",
          "height": 35
        },
        "outputId": "ce3e7ca9-4387-4220-8895-a272a8e42a1e"
      },
      "source": [
        "import math\n",
        "math.cos(90)"
      ],
      "execution_count": null,
      "outputs": [
        {
          "output_type": "execute_result",
          "data": {
            "text/plain": [
              "-0.4480736161291701"
            ]
          },
          "metadata": {
            "tags": []
          },
          "execution_count": 38
        }
      ]
    },
    {
      "cell_type": "code",
      "metadata": {
        "id": "240BF7yqedZ8",
        "colab": {
          "base_uri": "https://localhost:8080/",
          "height": 35
        },
        "outputId": "206a9700-e6a0-4091-bee8-34a21ac0f004"
      },
      "source": [
        "you_tired = False\n",
        "you_hungry =False\n",
        "if you_tired:\n",
        "  print(\"Hzydrate\")\n",
        "elif you_hungry:\n",
        "    print(\"Find something to eat\")\n",
        "else:\n",
        "  print(\"fuck you\")"
      ],
      "execution_count": null,
      "outputs": [
        {
          "output_type": "stream",
          "text": [
            "fuck you\n"
          ],
          "name": "stdout"
        }
      ]
    },
    {
      "cell_type": "code",
      "metadata": {
        "id": "KMnWQ987V2qO",
        "colab": {
          "base_uri": "https://localhost:8080/",
          "height": 35
        },
        "outputId": "a375cb75-1b5e-4baf-dbf0-e37354224148"
      },
      "source": [
        "good_credit=True\n",
        "bad_credit=False\n",
        "if good_credit:\n",
        "  print('Put down a 10% down payment')\n",
        "else:\n",
        "  print('Put down a 20% down payment')"
      ],
      "execution_count": null,
      "outputs": [
        {
          "output_type": "stream",
          "text": [
            "Put down a 10% down payment\n"
          ],
          "name": "stdout"
        }
      ]
    },
    {
      "cell_type": "code",
      "metadata": {
        "id": "iTGA9JJyqU_M",
        "colab": {
          "base_uri": "https://localhost:8080/"
        },
        "outputId": "ed8d6d09-9c1b-4801-c1be-a2a6e8084ff2"
      },
      "source": [
        "\n",
        "Good_credit= False\n",
        "Bad_credit= False\n",
        "if not Good_credit:\n",
        " Down_payment= (0.1 * 1000000)\n",
        " print(Down_payment)\n",
        "else:\n",
        "   Down_payment2 = int(0.2*1000000)\n",
        "   print(Down_payment2)\n"
      ],
      "execution_count": null,
      "outputs": [
        {
          "output_type": "stream",
          "name": "stdout",
          "text": [
            "100000.0\n"
          ]
        }
      ]
    },
    {
      "cell_type": "code",
      "metadata": {
        "id": "jMgY0OzAgS99",
        "colab": {
          "base_uri": "https://localhost:8080/",
          "height": 35
        },
        "outputId": "b6eea65c-f665-483d-d1ee-ca41b2e57f11"
      },
      "source": [
        "Temperature =28\n",
        "if Temperature > 30:\n",
        "  print(\"It is a hot day\")\n",
        "else:\n",
        "  print(\"It is a cold day\")"
      ],
      "execution_count": null,
      "outputs": [
        {
          "output_type": "stream",
          "text": [
            "It is a cold day\n"
          ],
          "name": "stdout"
        }
      ]
    },
    {
      "cell_type": "code",
      "metadata": {
        "id": "yJSkb9uGiXnj",
        "colab": {
          "base_uri": "https://localhost:8080/",
          "height": 54
        },
        "outputId": "684a2e6c-54d1-4493-af80-d00e6e241e7b"
      },
      "source": [
        "Name= input(\"what is your name? \")\n",
        "if 3<=(len(Name))<=50:\n",
        "  print(f\"{Name} is handsome\")\n",
        "else:\n",
        "  print(\"Invalid name\")"
      ],
      "execution_count": null,
      "outputs": [
        {
          "output_type": "stream",
          "text": [
            "what is your name? ka\n",
            "Invalid name\n"
          ],
          "name": "stdout"
        }
      ]
    },
    {
      "cell_type": "code",
      "metadata": {
        "id": "NsqihBLZ_CQz",
        "colab": {
          "base_uri": "https://localhost:8080/",
          "height": 72
        },
        "outputId": "96776919-58be-4488-c73e-98c4c76e93c8"
      },
      "source": [
        "Weight= input(\"What is your weight? \")\n",
        "Unit= input(\"Is your weight in ?\")\n",
        "if \"Lbs\" in Unit:\n",
        "  print(f\"{float(Weight)*0.453592}Kg\")\n",
        "else:\n",
        "  print(f\"{int(Weight)/0.453592}Lbs\")"
      ],
      "execution_count": null,
      "outputs": [
        {
          "output_type": "stream",
          "text": [
            "What is your weight? 132.27746521102665\n",
            "Is your weight in ?Lbs\n",
            "60.0Kg\n"
          ],
          "name": "stdout"
        }
      ]
    },
    {
      "cell_type": "markdown",
      "metadata": {
        "id": "P-Ddp24gmEwL"
      },
      "source": []
    },
    {
      "cell_type": "code",
      "metadata": {
        "id": "r1O4vyZQKcpT",
        "colab": {
          "base_uri": "https://localhost:8080/",
          "height": 128
        },
        "outputId": "7519f553-98f7-4f7a-bf8f-35dc3c1c3a8c"
      },
      "source": [
        "i=1\n",
        "while i <=5:\n",
        "    print(i)\n",
        "    i=i+1\n",
        "print(\"Done\")"
      ],
      "execution_count": null,
      "outputs": [
        {
          "output_type": "stream",
          "text": [
            "1\n",
            "2\n",
            "3\n",
            "4\n",
            "5\n",
            "Done\n"
          ],
          "name": "stdout"
        }
      ]
    },
    {
      "cell_type": "code",
      "metadata": {
        "id": "NuvlWNAlLpFC",
        "colab": {
          "base_uri": "https://localhost:8080/",
          "height": 136
        },
        "outputId": "426dbf92-14eb-46ef-924a-9ab1d316eb0f"
      },
      "source": [
        "command=\"\"\n",
        "command= input(\"s \").lower()\n",
        "  if command== \"start\":\n",
        "  print(\"Car started.....Ready to go\")\n",
        "  elif command"
      ],
      "execution_count": null,
      "outputs": [
        {
          "output_type": "error",
          "ename": "IndentationError",
          "evalue": "ignored",
          "traceback": [
            "\u001b[0;36m  File \u001b[0;32m\"<ipython-input-11-69e91f133093>\"\u001b[0;36m, line \u001b[0;32m3\u001b[0m\n\u001b[0;31m    if command== \"start\":\u001b[0m\n\u001b[0m    ^\u001b[0m\n\u001b[0;31mIndentationError\u001b[0m\u001b[0;31m:\u001b[0m unexpected indent\n"
          ]
        }
      ]
    },
    {
      "cell_type": "code",
      "metadata": {
        "id": "LK5IgBeSFW2q"
      },
      "source": [],
      "execution_count": null,
      "outputs": []
    },
    {
      "cell_type": "markdown",
      "metadata": {
        "id": "dHA_Qub3mKa_"
      },
      "source": [
        "New Beginnings so Starting from Scratch 6/26/21"
      ]
    },
    {
      "cell_type": "code",
      "metadata": {
        "id": "e1Bx5PVRmk2b",
        "colab": {
          "base_uri": "https://localhost:8080/"
        },
        "outputId": "7d210f1f-91f8-45a3-a9d4-8901cb49afb6"
      },
      "source": [
        "name= input('What is your name? ')\n",
        "Age= input('How old are you? ')\n",
        "Status=input('Are you a new patient? ')\n",
        "message= f'We checked in {name}.He is {Age} and is a {Status} patient'\n",
        "print(message)"
      ],
      "execution_count": null,
      "outputs": [
        {
          "output_type": "stream",
          "text": [
            "What is your name? calvin\n",
            "How old are you? 25\n",
            "Are you a new patient? yes\n",
            "We checked in calvin.He is 25 and is a yes patient\n"
          ],
          "name": "stdout"
        }
      ]
    },
    {
      "cell_type": "code",
      "metadata": {
        "id": "2IL2NQjuzKxZ",
        "colab": {
          "base_uri": "https://localhost:8080/"
        },
        "outputId": "95e49020-bebe-434b-edee-b161d92f30be"
      },
      "source": [
        "Que=input('What is your weight? ')\n",
        "Lbs= int(Que)* 2.2\n",
        "Lbs*=-100\n",
        "print(abs(Lbs) )"
      ],
      "execution_count": null,
      "outputs": [
        {
          "output_type": "stream",
          "text": [
            "What is your weight? 40\n",
            "8800.0\n"
          ],
          "name": "stdout"
        }
      ]
    },
    {
      "cell_type": "code",
      "metadata": {
        "id": "O_DYaEt27lDo"
      },
      "source": [],
      "execution_count": null,
      "outputs": []
    },
    {
      "cell_type": "code",
      "metadata": {
        "colab": {
          "base_uri": "https://localhost:8080/"
        },
        "id": "9RnTX4u5xM11",
        "outputId": "5ee02180-4194-458e-cfba-ce1f0c2bf8b6"
      },
      "source": [
        "import math\n",
        "print(math.sin(60))"
      ],
      "execution_count": null,
      "outputs": [
        {
          "output_type": "stream",
          "name": "stdout",
          "text": [
            "-0.3048106211022167\n"
          ]
        }
      ]
    },
    {
      "cell_type": "code",
      "metadata": {
        "colab": {
          "base_uri": "https://localhost:8080/"
        },
        "id": "s6EvStppBhCd",
        "outputId": "40f6ffd6-736f-42ff-962a-7ed63344521b"
      },
      "source": [
        "hot_day= False\n",
        "Cold_day= False\n",
        "if hot_day:\n",
        " print('Drink plenty of water')\n",
        "elif Cold_day:\n",
        "  print('Wear warm clothes')\n",
        "else:\n",
        "  print('It is a lovely day')"
      ],
      "execution_count": null,
      "outputs": [
        {
          "output_type": "stream",
          "text": [
            "It is a lovely day\n"
          ],
          "name": "stdout"
        }
      ]
    },
    {
      "cell_type": "code",
      "metadata": {
        "colab": {
          "base_uri": "https://localhost:8080/"
        },
        "id": "8DsriQZXeIJq",
        "outputId": "061bd968-d07d-40f1-bc67-26d0412c854c"
      },
      "source": [
        "house_price= 1000000\n",
        "good_credit=False\n",
        "bad_credit=True\n",
        "if good_credit:\n",
        "  print((10/100)*house_price)\n",
        "else:\n",
        "  print((20/100)*house_price)"
      ],
      "execution_count": null,
      "outputs": [
        {
          "output_type": "stream",
          "text": [
            "200000.0\n"
          ],
          "name": "stdout"
        }
      ]
    },
    {
      "cell_type": "markdown",
      "metadata": {
        "id": "MCE-EGp3t0Yb"
      },
      "source": [
        "The \"and\" operator is used in an if statement if you need two conditions to be true or false before the IF statement runs. The \"OR\" operator is used if you want the IF statement to run if one of the conditions is true. The \"not\" operator always changes the condition of the bulean value to the opposite. So if the condition is true and you use the not, then it runs it as if the condition is false."
      ]
    },
    {
      "cell_type": "code",
      "metadata": {
        "colab": {
          "base_uri": "https://localhost:8080/"
        },
        "id": "Fsrm4kHUz9fR",
        "outputId": "6f82ea8a-f0b1-45cf-97cb-d131bbcc3b77"
      },
      "source": [
        "temperature= 20\n",
        "if temperature >30:\n",
        "  print(\"It is a hot day\")\n",
        "elif temperature <10:\n",
        "  print(\"It's a cold day\")\n",
        "else:\n",
        "  print(\"It's neither hot nor cold\")"
      ],
      "execution_count": null,
      "outputs": [
        {
          "output_type": "stream",
          "text": [
            "It's neither hot nor cold\n"
          ],
          "name": "stdout"
        }
      ]
    },
    {
      "cell_type": "code",
      "metadata": {
        "colab": {
          "base_uri": "https://localhost:8080/"
        },
        "id": "DdrZQ2v52P9q",
        "outputId": "48d8d0c9-b698-4121-d89c-12eda2536e52"
      },
      "source": [
        "name= input(\"What is your name?:  \")\n",
        "characters= len(name)\n",
        "if characters < 3:\n",
        "  print(\"Name must be at least 6 Characters\")\n",
        "elif characters > 6:\n",
        "  print(\"name can be a maximum of 6 Characters\")\n",
        "else:\n",
        "  print(\"Name looks good\")\n"
      ],
      "execution_count": null,
      "outputs": [
        {
          "output_type": "stream",
          "name": "stdout",
          "text": [
            "What is your name?:  calvin\n",
            "Name looks good\n"
          ]
        }
      ]
    },
    {
      "cell_type": "code",
      "metadata": {
        "colab": {
          "base_uri": "https://localhost:8080/"
        },
        "id": "nvU9pwea7nYV",
        "outputId": "a30e17f0-688f-486e-8c78-48ccc14ef2f9"
      },
      "source": [
        "Weight= input(\"What is your weight?: \")\n",
        "Unit= input(\"Is is (L)bs or (k)g?: \")\n",
        "if Unit.upper()=='K':\n",
        "  kg= round(int(Weight)*2.205)\n",
        "  print(f\"You are {kg} pounds\")\n",
        "elif Unit.upper()== 'L':\n",
        "  lbs= round(int(Weight)/2.205)\n",
        "  print(f\"You are {lbs} Kilogram\")\n",
        "else:\n",
        "  print('syntax error')"
      ],
      "execution_count": null,
      "outputs": [
        {
          "output_type": "stream",
          "text": [
            "What is your weight?: 156\n",
            "Is is (L)bs or (k)g?: l\n",
            "You are 71 Kilogram\n"
          ],
          "name": "stdout"
        }
      ]
    },
    {
      "cell_type": "code",
      "metadata": {
        "colab": {
          "base_uri": "https://localhost:8080/"
        },
        "id": "udnVl-KxcwCY",
        "outputId": "e8c5e5d5-5246-4216-d650-2e2845427ac7"
      },
      "source": [
        "q=1\n",
        "while q <= 6:\n",
        "  print(q)\n",
        "  q=q+1.5\n",
        "print(\"Done\")"
      ],
      "execution_count": null,
      "outputs": [
        {
          "output_type": "stream",
          "text": [
            "1\n",
            "2.5\n",
            "4.0\n",
            "5.5\n",
            "Done\n"
          ],
          "name": "stdout"
        }
      ]
    },
    {
      "cell_type": "code",
      "metadata": {
        "id": "9uJxvTbyets1",
        "colab": {
          "base_uri": "https://localhost:8080/"
        },
        "outputId": "64b9dde3-3ad4-4f77-b2b2-b72071b84453"
      },
      "source": [
        "secret_number=9\n",
        "Guess_limit=3\n",
        "Guess_start=0\n",
        "while Guess_start <= Guess_limit:\n",
        "  Guesss=int(input(\"Guess:\"))\n",
        "  Guess_start+=1\n",
        "  if Guesss==secret_number:\n",
        "    print(\"You win\")\n",
        "    break\n",
        "else:\n",
        "  print(\"You failed\")\n"
      ],
      "execution_count": null,
      "outputs": [
        {
          "output_type": "stream",
          "text": [
            "Guess:7\n",
            "Guess:6\n",
            "Guess:9\n",
            "You win\n"
          ],
          "name": "stdout"
        }
      ]
    },
    {
      "cell_type": "markdown",
      "metadata": {
        "id": "vEIosGsKUTHH"
      },
      "source": [
        "Car Game Problem( Video Stamp code 1:30mins).check for the answer in the video using the given timestamp. Work on this problem by trying to remember things from the video watched"
      ]
    },
    {
      "cell_type": "code",
      "metadata": {
        "colab": {
          "base_uri": "https://localhost:8080/"
        },
        "id": "4QX0X5velG9K",
        "outputId": "e3aefaec-c3bd-461c-c33c-2d485c4f0d36"
      },
      "source": [
        "\n",
        " command= input(\"> \")\n",
        "while command.upper()!='QUIT':\n",
        "  if command.upper()=='HELP':\n",
        "    print('''\n",
        "    Start-to start the car\n",
        "    stop-to stop the car\n",
        "    quit-to exit\n",
        "    ''')\n",
        "\n",
        "  elif command.upper()=='START':\n",
        "    print(\"Car started...Ready to go!\")\n",
        "  elif command.upper()== 'STOP':\n",
        "    print(\"Car stopped\")\n",
        "  else:\n",
        "    print(\"I don't understand that\")\n",
        "  break\n",
        "\n"
      ],
      "execution_count": null,
      "outputs": [
        {
          "output_type": "stream",
          "name": "stdout",
          "text": [
            "> gg\n",
            "I don't understand that\n"
          ]
        }
      ]
    },
    {
      "cell_type": "markdown",
      "source": [
        "#New Beginning"
      ],
      "metadata": {
        "id": "CW8jjBmgjrRa"
      }
    },
    {
      "cell_type": "code",
      "source": [
        "class Person:\n",
        "\tdef __init__(self,name,age):\n",
        "\t\tself.name=name\n",
        "\t\tself.age=age\n",
        "p1= Person(\"john\",30)\n",
        "\n",
        "print(p1.name)"
      ],
      "metadata": {
        "colab": {
          "base_uri": "https://localhost:8080/"
        },
        "id": "Sp3SP50Sjy8O",
        "outputId": "120e2b28-9b71-41ea-8aa8-0cfbc15188c2"
      },
      "execution_count": null,
      "outputs": [
        {
          "output_type": "stream",
          "name": "stdout",
          "text": [
            "john\n"
          ]
        }
      ]
    },
    {
      "cell_type": "code",
      "source": [
        "class Person:\n",
        "\tdef __init__(self,name,age):\n",
        "\t\tself.name= name\n",
        "\t\tself.age= age\n",
        "def func_self(self):\n",
        "    print(f'My name is {self.name} and I am {self.age} old')\n",
        "p1= Person(\"John\",30)\n",
        "p1.func_self()"
      ],
      "metadata": {
        "colab": {
          "base_uri": "https://localhost:8080/",
          "height": 244
        },
        "id": "TFmvv388oXKq",
        "outputId": "60490721-f704-42fe-c7bb-6d56f6c45f54"
      },
      "execution_count": null,
      "outputs": [
        {
          "output_type": "error",
          "ename": "AttributeError",
          "evalue": "ignored",
          "traceback": [
            "\u001b[0;31m---------------------------------------------------------------------------\u001b[0m",
            "\u001b[0;31mAttributeError\u001b[0m                            Traceback (most recent call last)",
            "\u001b[0;32m<ipython-input-18-c6cef53ec40a>\u001b[0m in \u001b[0;36m<module>\u001b[0;34m\u001b[0m\n\u001b[1;32m      6\u001b[0m     \u001b[0mprint\u001b[0m\u001b[0;34m(\u001b[0m\u001b[0;34mf'My name is {self.name} and I am {self.age} old'\u001b[0m\u001b[0;34m)\u001b[0m\u001b[0;34m\u001b[0m\u001b[0;34m\u001b[0m\u001b[0m\n\u001b[1;32m      7\u001b[0m \u001b[0mp1\u001b[0m\u001b[0;34m=\u001b[0m \u001b[0mPerson\u001b[0m\u001b[0;34m(\u001b[0m\u001b[0;34m\"John\"\u001b[0m\u001b[0;34m,\u001b[0m\u001b[0;36m30\u001b[0m\u001b[0;34m)\u001b[0m\u001b[0;34m\u001b[0m\u001b[0;34m\u001b[0m\u001b[0m\n\u001b[0;32m----> 8\u001b[0;31m \u001b[0mp1\u001b[0m\u001b[0;34m.\u001b[0m\u001b[0mfunc_self\u001b[0m\u001b[0;34m(\u001b[0m\u001b[0;34m)\u001b[0m\u001b[0;34m\u001b[0m\u001b[0;34m\u001b[0m\u001b[0m\n\u001b[0m",
            "\u001b[0;31mAttributeError\u001b[0m: 'Person' object has no attribute 'func_self'"
          ]
        }
      ]
    }
  ]
}