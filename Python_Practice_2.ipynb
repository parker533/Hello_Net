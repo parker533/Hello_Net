{
  "nbformat": 4,
  "nbformat_minor": 0,
  "metadata": {
    "colab": {
      "provenance": [],
      "authorship_tag": "ABX9TyOh3eddHbLk+DQiEuRO+Y0W",
      "include_colab_link": true
    },
    "kernelspec": {
      "name": "python3",
      "display_name": "Python 3"
    },
    "language_info": {
      "name": "python"
    }
  },
  "cells": [
    {
      "cell_type": "markdown",
      "metadata": {
        "id": "view-in-github",
        "colab_type": "text"
      },
      "source": [
        "<a href=\"https://colab.research.google.com/github/parker533/Hello_Net/blob/master/Python_Practice_2.ipynb\" target=\"_parent\"><img src=\"https://colab.research.google.com/assets/colab-badge.svg\" alt=\"Open In Colab\"/></a>"
      ]
    },
    {
      "cell_type": "code",
      "execution_count": null,
      "metadata": {
        "id": "zuZcv-zwo-GL"
      },
      "outputs": [],
      "source": [
        "a = 13\n",
        "b = 2\n",
        "if b == a: # Remember that = is used to assign something to a variable and == is used to evaluate\n",
        "    print(\" They are the same\")\n",
        "elif a > b + 10: # This means if a is greater than b more than 10 and not by 10\n",
        "    print(\" It is really greater than b\")\n",
        "else:\n",
        "    pass"
      ]
    },
    {
      "cell_type": "code",
      "source": [
        "# BMI calculator using if statement\n",
        "name1 = input(\"What is your name: \")\n",
        "height_m = input(\"What is your height: \")\n",
        "weight_kg = input(\"What is your weight: \")\n",
        "bmi_calc = int(weight_kg) / int(height_m)**2\n",
        "messages = f'Hi {name1} your bmi is {(bmi_calc)}'\n",
        "print(messages)"
      ],
      "metadata": {
        "colab": {
          "base_uri": "https://localhost:8080/"
        },
        "id": "2yN2TB3LZgLZ",
        "outputId": "7128497e-0670-4733-9a18-c17e2b5d08b7"
      },
      "execution_count": null,
      "outputs": [
        {
          "output_type": "stream",
          "name": "stdout",
          "text": [
            "What is your name: Calvin\n",
            "What is your height: 60\n",
            "What is your weight: 65\n",
            "Hi Calvin your bmi is 0.018055555555555554\n"
          ]
        }
      ]
    },
    {
      "cell_type": "code",
      "source": [],
      "metadata": {
        "id": "NLsmj6_FeOoN"
      },
      "execution_count": null,
      "outputs": []
    },
    {
      "cell_type": "code",
      "source": [
        "a = (\"apple\", *\"21\")\n",
        "print(a)\n",
        "# As you can see, when you star something, it stretches it into its idividual components"
      ],
      "metadata": {
        "colab": {
          "base_uri": "https://localhost:8080/"
        },
        "id": "VKUTQ89_AfIn",
        "outputId": "6ac70979-1c82-4cab-a543-6b9dfda7b76e"
      },
      "execution_count": null,
      "outputs": [
        {
          "output_type": "stream",
          "name": "stdout",
          "text": [
            "('apple', '2', '1')\n"
          ]
        }
      ]
    },
    {
      "cell_type": "code",
      "source": [
        "B = 6 * \"a\"\n",
        "print(B)\n",
        "# When you multiply a number by something, you just make that thing more\n"
      ],
      "metadata": {
        "colab": {
          "base_uri": "https://localhost:8080/"
        },
        "id": "h5QqOrtjCMF6",
        "outputId": "534a4b9a-b15d-4e70-9c79-5b39d44e8735"
      },
      "execution_count": null,
      "outputs": [
        {
          "output_type": "stream",
          "name": "stdout",
          "text": [
            "aaaaaa\n"
          ]
        }
      ]
    },
    {
      "cell_type": "code",
      "source": [
        "B = \"apple \" + \"Oranges\"\n",
        "print(B)\n",
        "# Remember that plus sign concartinate(join together). Put a space before the O of the orange and they will be spaced out"
      ],
      "metadata": {
        "colab": {
          "base_uri": "https://localhost:8080/"
        },
        "id": "8q-Djt0DC009",
        "outputId": "f2b7896b-4af9-4ecc-dc07-42c914db7442"
      },
      "execution_count": null,
      "outputs": [
        {
          "output_type": "stream",
          "name": "stdout",
          "text": [
            "apple Oranges\n"
          ]
        }
      ]
    },
    {
      "cell_type": "markdown",
      "source": [
        "\n",
        "\n",
        "*   Normally, for a \"For\" loop, we use an expression like \"a in b\". There are other ones like it and they are: a is b, a is not b, and a not in b. a in b means a in the set or iterable b and a is b is just a single comparison\n",
        "* We have the trinarry conditional which is a if b else c, which means if b is true then give or print a otherwise c.\n",
        "\n",
        "\n",
        "*   Del is usually to free up a variable so it can be newly used\n",
        "*   List item\n",
        "\n",
        "\n",
        "\n",
        "\n",
        "\n",
        "\n",
        "\n",
        "\n",
        "\n"
      ],
      "metadata": {
        "id": "eIa-gc2YDtmA"
      }
    },
    {
      "cell_type": "code",
      "source": [
        "# Python is a good calulator, if you run each line single you will get answer for them if added it only runs the last and greater than gives a boolean\n",
        "1 + 2\n",
        "(2*3) + (2**4)\n",
        "3>2"
      ],
      "metadata": {
        "colab": {
          "base_uri": "https://localhost:8080/"
        },
        "id": "b_BulPI5vowN",
        "outputId": "a3135733-ae03-417a-b132-69ebba316c92"
      },
      "execution_count": null,
      "outputs": [
        {
          "output_type": "execute_result",
          "data": {
            "text/plain": [
              "True"
            ]
          },
          "metadata": {},
          "execution_count": 3
        }
      ]
    },
    {
      "cell_type": "code",
      "source": [
        "from typing import List\n",
        "items = [1,2,3,4,5]\n",
        "def inc(x): return x + 1 # You forgot the return so the reult showed no\n",
        "del list # Had to free up list since I used it previously and the computer stored it as such\n",
        "list(map(inc,items))# map always be put in a list or tuple before it will work"
      ],
      "metadata": {
        "id": "gDQ5JaC3O9no",
        "outputId": "03a454c0-dc53-456a-827d-dc38e289530d",
        "colab": {
          "base_uri": "https://localhost:8080/"
        }
      },
      "execution_count": null,
      "outputs": [
        {
          "output_type": "execute_result",
          "data": {
            "text/plain": [
              "[2, 3, 4, 5, 6]"
            ]
          },
          "metadata": {},
          "execution_count": 34
        }
      ]
    },
    {
      "cell_type": "code",
      "source": [
        "list(map((lambda x: x + 1), items)) #Lambda is like a unanymous general function that can be used in place of defining an actual function for simple stuff\n",
        "# notice the name items has been assigned to that list so can automatically call it but you want to use it differently then you have to del it\n"
      ],
      "metadata": {
        "colab": {
          "base_uri": "https://localhost:8080/",
          "height": 263
        },
        "id": "Z2n-IroFTjnA",
        "outputId": "a43d7337-414a-4de8-8f5e-674f7d3ca61d"
      },
      "execution_count": null,
      "outputs": [
        {
          "output_type": "error",
          "ename": "NameError",
          "evalue": "ignored",
          "traceback": [
            "\u001b[0;31m---------------------------------------------------------------------------\u001b[0m",
            "\u001b[0;31mNameError\u001b[0m                                 Traceback (most recent call last)",
            "\u001b[0;32m<ipython-input-4-f44937b26051>\u001b[0m in \u001b[0;36m<module>\u001b[0;34m\u001b[0m\n\u001b[0;32m----> 1\u001b[0;31m \u001b[0mlist\u001b[0m\u001b[0;34m(\u001b[0m\u001b[0mmap\u001b[0m\u001b[0;34m(\u001b[0m\u001b[0;34m(\u001b[0m\u001b[0;32mlambda\u001b[0m \u001b[0mx\u001b[0m\u001b[0;34m:\u001b[0m \u001b[0mx\u001b[0m \u001b[0;34m+\u001b[0m \u001b[0;36m1\u001b[0m\u001b[0;34m)\u001b[0m\u001b[0;34m,\u001b[0m \u001b[0mitems\u001b[0m\u001b[0;34m)\u001b[0m\u001b[0;34m)\u001b[0m \u001b[0;31m#Lambda is like a unanymous general function that can be used in place of defining an actual function for simple stuff\u001b[0m\u001b[0;34m\u001b[0m\u001b[0;34m\u001b[0m\u001b[0m\n\u001b[0m\u001b[1;32m      2\u001b[0m \u001b[0;31m# notice the name items has been assigned to that list so can automatically call it but you want to use it differently then you have to del it\u001b[0m\u001b[0;34m\u001b[0m\u001b[0;34m\u001b[0m\u001b[0;34m\u001b[0m\u001b[0m\n",
            "\u001b[0;31mNameError\u001b[0m: name 'items' is not defined"
          ]
        }
      ]
    },
    {
      "cell_type": "markdown",
      "source": [
        "**Functional Programing involves\n",
        "**\n",
        "\n",
        "*   list/tuple(map(function,iterable)\n",
        "*   List/tuple(filter(function, iterable)\n",
        "*   List/tuple(reduce(function, iterable), have to import functools\n",
        "*   lambda, the function for little things\n",
        "*   List comprehension\n",
        "*   \n",
        "\n",
        "\n",
        "\n",
        "\n",
        "\n"
      ],
      "metadata": {
        "id": "WlciU399W2BE"
      }
    },
    {
      "cell_type": "code",
      "source": [
        "tuple(filter((lambda x: x<= 5),items)) # less than or equal to is written as read"
      ],
      "metadata": {
        "colab": {
          "base_uri": "https://localhost:8080/"
        },
        "id": "_oWpkIATYLQD",
        "outputId": "f6a9d2fc-d01d-4fe5-a76d-006fab2b598d"
      },
      "execution_count": null,
      "outputs": [
        {
          "output_type": "execute_result",
          "data": {
            "text/plain": [
              "(1, 2, 3, 4, 5)"
            ]
          },
          "metadata": {},
          "execution_count": 41
        }
      ]
    },
    {
      "cell_type": "code",
      "source": [
        "# remember that reduce is imported and it reduces the whole list to a single number per the instructions you give to it\n",
        "from functools import reduce\n",
        "reduce((lambda x,y: x/y), items) # since it is only one number, you do not put it as an iterable or a list"
      ],
      "metadata": {
        "colab": {
          "base_uri": "https://localhost:8080/"
        },
        "id": "LLoBgtWhbH7y",
        "outputId": "0b16b0e6-9639-4d02-e089-1fdec9ab39d6"
      },
      "execution_count": null,
      "outputs": [
        {
          "output_type": "execute_result",
          "data": {
            "text/plain": [
              "0.008333333333333333"
            ]
          },
          "metadata": {},
          "execution_count": 44
        }
      ]
    },
    {
      "cell_type": "markdown",
      "source": [
        "functiobal programming substitute for For loop"
      ],
      "metadata": {
        "id": "GmbKgi-FdHix"
      }
    },
    {
      "cell_type": "code",
      "source": [
        "for i in items:\n",
        "    print(i + 1)"
      ],
      "metadata": {
        "colab": {
          "base_uri": "https://localhost:8080/"
        },
        "id": "87lZ7lb0dS3m",
        "outputId": "3667255e-5e8d-411d-cc2f-9d8c661d667c"
      },
      "execution_count": null,
      "outputs": [
        {
          "output_type": "stream",
          "name": "stdout",
          "text": [
            "2\n",
            "3\n",
            "4\n",
            "5\n",
            "6\n"
          ]
        }
      ]
    },
    {
      "cell_type": "code",
      "source": [
        "# list comprehension is an easy way of generating a list using range\n",
        "s= [x**3 for x in range(6)]\n",
        "s # In python,if a variable has something printable associated with it, you can just call the variable without using print()"
      ],
      "metadata": {
        "colab": {
          "base_uri": "https://localhost:8080/"
        },
        "id": "RiblqeKBez8k",
        "outputId": "675730e2-7bda-4c54-8b9a-29960b8afd3a"
      },
      "execution_count": null,
      "outputs": [
        {
          "output_type": "execute_result",
          "data": {
            "text/plain": [
              "[0, 1, 8, 27, 64, 125]"
            ]
          },
          "metadata": {},
          "execution_count": 46
        }
      ]
    },
    {
      "cell_type": "code",
      "source": [
        "a = 10\n",
        "if a > 3:\n",
        "  if a < 5:\n",
        "    print(\" The number is 4\")\n",
        "else:\n",
        "  print(\"The number is greater than 4 or < 3\")\n",
        "  # codingwise at pge 35 of the book"
      ],
      "metadata": {
        "id": "0lqTsdKHkxu7"
      },
      "execution_count": null,
      "outputs": []
    },
    {
      "cell_type": "code",
      "source": [
        "# Creating a numpy array. arange is just like the python func range\n",
        "import numpy as np\n",
        "using_arrange = np.arange(0,10,2)\n",
        "using_arrange\n",
        "# Code below is a 2D array\n",
        "using_list = np.array([[1,3,5,6],[2,4,5,9]])\n",
        "#using_list\n",
        "#print(type(using_arrange[1]))"
      ],
      "metadata": {
        "id": "9aL3ZR18eQcg"
      },
      "execution_count": null,
      "outputs": []
    },
    {
      "cell_type": "code",
      "source": [
        "# Revision\n",
        "# Creating a func that calculate my pay for 15/hr job with 12% tax\n",
        "# It didn't work first time cuz there was space after underscore(_ hrs)\n",
        "# See the return line is also indented\n",
        "def netpay_recieved(number_of_hrs):\n",
        "    pretax_pay = number_of_hrs * 15\n",
        "    posttax_pay = pretax_pay * (1 - .12)\n",
        "    return posttax_pay\n",
        "#netpay_recieved(40) ---> Take # off to run that part\n",
        "# map() allows you to apply a function to a list\n",
        "# When you use map, you have to specify what you want it in, whether set,tuple or list\n",
        "the_list = [0,1,2,3,4,5,6,7,8,9,]\n",
        "def doubling(x): return x**2\n",
        "#set(map(doubling, the_list))----> Take # off to run\n",
        "# Remember that lambda can be used in place of making func for little stuff and can use map to work on the list\n",
        "#z = len(the_list)---> Off # to run. len you put stuff in but .upper() and .lower() you don't\n",
        "#z---> Off # to run\n",
        "other_list = [2,3,4,5,6,7,7,8,9,6]\n",
        "addition = map(lambda x,y:x + y, the_list, other_list) # remember that the things of lambda do not go into a bracket\n",
        "#list(addition)---> Off # to run, also remember to specify how you want the map to be in\n",
        "# If you have words list, you can use map to isolate the letters of the words by using the word list\n",
        "words_list = ['sat', 'dog','cat']\n",
        "isolate = list(map(list, words_list))\n",
        "isolate\n",
        "# You can assign multiple variables in a role form, also if you use a variable multple times, only current will be valid\n",
        "x,y,z = 'orange','mango','apple'\n",
        "z\n",
        "# in code above, you can assign all the items to 1 variable and do x,y,z = that variable\n",
        "\"\"\"\n",
        "you can add the variable of a result to a string using +.\n",
        " Make sure you leave space after the string.eg print(\"My name is \"+ name)\n",
        " \"\"\"\n",
        " #remember that \\n will break a string to the next line. Also, \\\"viking\\\" put \"viking\" in a string\n",
        "#print(\"Hello\\nWorld\")---> Turn Off # to run\n",
        "# in is used for if statement to specify a code if lets say 'apple' in list(if \"apple\" in name_of_list:)\n",
        "# You call items in a list by name_of_list[index_number]\n",
        "#if you want to change an item in a list is name_of_list[index_of_member_you_want_replaced]= [replacement]\n",
        "# List comprehention is way of filtering list. I think does not work with numbers. It is a simpler way of for loop.\n",
        "fruits = 'orange','mango','apple'\n",
        "new_list= [i for i in fruits if 'o' in i]\n",
        "new_list\n",
        "new_list2 = [i.upper() for i in fruits]\n",
        "new_list2\n",
        "# a tuple with one item has a comma after (\"mango\",)\n",
        "# Tuple items are unchangable so to change stuff, convert to list, change then convert back to tuple\n",
        "# Sets are unordered so you cannot use use index to identify items. and dictionary does not allow duplicate"
      ],
      "metadata": {
        "colab": {
          "base_uri": "https://localhost:8080/"
        },
        "id": "hggtvygcFzPr",
        "outputId": "96b95378-a71a-411e-999e-8cd45e99ac31"
      },
      "execution_count": null,
      "outputs": [
        {
          "output_type": "execute_result",
          "data": {
            "text/plain": [
              "['ORANGE', 'MANGO', 'APPLE']"
            ]
          },
          "metadata": {},
          "execution_count": 7
        }
      ]
    },
    {
      "cell_type": "code",
      "source": [
        "#Numpy\n",
        "#numpy library has its own website of all its stuff\n",
        "# have some numpy code two tabs above\n",
        "import numpy as np\n",
        "#below is how you change the storage capcity of the arange list created\n",
        "     #Notice that the int has np. attached anf the dtype part is in the same bracket as the arrange range numbers\n",
        "from_arange = np.arange(1,17,dtype=np.int32)\n",
        "type(from_arange[0])\n",
        "# if you want to create a 2D array with np.arange, you put it in an array\n",
        "#2D array with lists is at 2 tabs above.\n",
        "# When creating 2D, you put it in an extra[] for lists and() for arange\n",
        "arange_in_array = np.array((np.arange(0,8,2), np.arange(1,9,2)))\n",
        "arange_in_array\n",
        "#.shape tells you its rows and columns. below, the \",\" was used to concatenate\n",
        "#print(\"Tell me its shape:\", arange_in_array.shape)--> code runs when # is off\n",
        "#Can use reshape method to change shape\n",
        "change_shape = arange_in_array.reshape(4,2)\n",
        "change_shape\n",
        "# Sometimes, you dnt know the numbers you want to use but you want to specify a shape\n",
        "    # In that case use np.ones() or np.zeros()\n",
        "#np.eye(3) will give a 3x3 with 1 as diagonal, add k=-1 and it shift the diagonal down\n",
        "eye_array = np.eye(5,6, k=-1)\n",
        "eye_array\n",
        "# np.empty() give random stuff so dnt use\n",
        "# To change the zeros of the eye array to diff number, call the variable and tell is if ==0 turn to lets say 3\n",
        "# You are not limited to only the == operator. You can say < 2 should be = 5\n",
        "eye_array[eye_array==0] = 4\n",
        "eye_array\n",
        "# To change a row use index. index like[:2] changes all rows but 3. remember idex use : and not ,\n",
        "eye_array[2:4] = 6\n",
        "eye_array\n",
        "# Use a comma after seperate the row from the column. Just putting a column at the row side means all rows\n",
        "eye_array[:,3] = 7\n",
        "eye_array\n",
        "#can use np.sort for sorting  and specify using axis\n",
        "#np.sort by default sort from big to small for axis,0= column, -1= rows\n",
        "sorting = np.sort(eye_array, axis = -1)\n",
        "sorting\n",
        "#array.copy() and array.view() shows you the array cpy but copy gives you just a copy\n",
        "a = np.zeros((3,3))\n",
        "a\n",
        "a[:]=2\n",
        "a\n",
        "b = np.arange(1,10).reshape((3,3))\n",
        "b\n",
        "a.dtype\n",
        "#simple way of changing all numbers to 1 number is a.fill() or += a number\n",
        "# /= operator doesnt work for it if the dtyoe is int cuz divide give you a float\n",
        "b.fill(8)\n",
        "b\n",
        "b+=2\n",
        "b\n",
        "#.sum() sums everything in the matrix\n",
        "#can sum column(axis=0) or rows(axis=1)\n",
        "b.sum()\n",
        "b.sum(axis = 0)\n",
        "#.prod() multiply everything by its self. it is diff from dot producr\n",
        "prod = b.prod()\n",
        "\"{:,}\".format(prod) # how to put commas in numbers\n",
        "b.mean()\n",
        "mini, maxi = b.min(),a.max()#Diff way of assigning\n",
        "mini\n",
        "maxi\n",
        "# b.argmax() and b.argmin() just gives the indexes of max and min\n",
        "b.ptp()# peak to peak is just max - min\n",
        "# To get a one dimensional array use b.flatten()\n",
        "eye_array.flatten()\n",
        "#b.ravel does the same as b.flatten but the ravel one creates a view whilst the flatten makes a copy\n",
        "#np.repeat(thing_to_repeat,how many times,axis if needed). np.unique undoes the repeat stuff\n",
        "np.repeat(233,3)\n",
        "np.unique(233,3)\n",
        "np.repeat(eye_array,2,axis = 0)\n",
        "#b.tolist()method is used to convert array into list in numpy\n",
        "#see that the list method in numpy is different from the diffault list method\n",
        "b.tolist()\n",
        "#transposition is swaping axes we can use np.swapaxes(b,flip axes 0,to axes1)\n",
        "np.swapaxes(a,0,1)\n",
        "#.T also does swapping and is the easiest\n",
        "a.T\n",
        "# even numbers give modullo zero and odd gives modullo 1\n",
        "a%b\n",
        "np.dot(a,b)"
      ],
      "metadata": {
        "colab": {
          "base_uri": "https://localhost:8080/"
        },
        "id": "tMatWFaUxJz7",
        "outputId": "2afa521e-fce6-4ebf-9cc7-3c5a2809c9e0"
      },
      "execution_count": null,
      "outputs": [
        {
          "output_type": "execute_result",
          "data": {
            "text/plain": [
              "array([[60., 60., 60.],\n",
              "       [60., 60., 60.],\n",
              "       [60., 60., 60.]])"
            ]
          },
          "metadata": {},
          "execution_count": 15
        }
      ]
    },
    {
      "cell_type": "code",
      "source": [
        "                      #Numpy from the textbook\n",
        "import numpy as np\n",
        "print(\"Hello world\")\n",
        "num = np.arange(2,18)\n",
        "num.flatten()\n",
        "len(num)\n",
        "num.reshape((4,4))\n",
        "#for i in num: print(i)   for iterations\n",
        "# if you want to use an aggregate func on a particular axis..\n",
        "# use the apply_along_axis() func\n",
        "# In place of the spot u put agg func you can put a func you define\n",
        "num1 = num.reshape((4,4))\n",
        "np.apply_along_axis(np.mean,axis=1,arr=num1)\n",
        "# instead of using index, you can use boolean to slice\n",
        "num1\n",
        "num1<17 #give a bool\n",
        "#num1[num1<17] this gives you the numbers\n",
        "# a.shape is a different view but a.reshap() copies. ravel() make th8ngs flat\n",
        "# array manipulation next\n",
        "#vstack is joining  2 arrays vertically, and hstack is horizontal\n",
        "num2 = np.arange(22,38).reshape(4,4)\n",
        "num2\n",
        "num3 = np.vstack((num1,num2))\n",
        "num3\n",
        "# we have column_stack and row_stack for single arrays\n",
        "[x,y]=np.hsplit(num2,2)#the 2 mean split in 2. see how variable is assigned to each hal\n",
        "y\n",
        "x\n",
        "# when we say the shape of a matrix is 2x3x3 it means it is two 3x3 matrixes\n",
        "structured_array = np.array([('john',0.5,1,2+1j),('Pete',0.3,3,1+3j),('Dan',0.8,1,4+1j)],dtype=('a8,f4,i2,c8'))\n",
        "structured_array# when it prints, the dtype that print are like colums like f0,f1,f3. You can use them to call or name them to make it easy\n",
        "# if you name your dtype then you have to put it in a [] and not() or it will be an exception cuz it will think it is a tuple\n",
        "structured_array = np.array([('john',0.5,1,2+1j),('Pete',0.3,3,1+3j),('Dan',0.8,1,4+1j)],dtype=[('name','a8'),('deci','f4'),('integar','i2'),('complex','c8')])\n",
        "structured_array\n"
      ],
      "metadata": {
        "id": "XdBM40sWhSsX",
        "colab": {
          "base_uri": "https://localhost:8080/"
        },
        "outputId": "c700117c-31be-4ed2-cdef-e746d9a181cb"
      },
      "execution_count": null,
      "outputs": [
        {
          "output_type": "stream",
          "name": "stdout",
          "text": [
            "Hello world\n"
          ]
        },
        {
          "output_type": "execute_result",
          "data": {
            "text/plain": [
              "array([(b'john', 0.5, 1, 2.+1.j), (b'Pete', 0.3, 3, 1.+3.j),\n",
              "       (b'Dan', 0.8, 1, 4.+1.j)],\n",
              "      dtype=[('name', 'S8'), ('deci', '<f4'), ('integar', '<i2'), ('complex', '<c8')])"
            ]
          },
          "metadata": {},
          "execution_count": 6
        }
      ]
    },
    {
      "cell_type": "code",
      "source": [
        "# This is code from the statistics book. This is the formal coding format\n",
        "''' Demonstration of how to write proper python code using python function\n",
        "\n",
        "author:Calvin Kosso, date: 25Oct2023\n",
        "'''\n",
        "# Importing needed library\n",
        "import numpy as np\n",
        "\n",
        "# It seems # is used for one line comments and ''' is used for multiple line comments even though line 11 is one line comment, in the book it is 2 lines\n",
        "def income_and_expenses(data):\n",
        "  ''' Finding the sum of positive numbers, and negative ones'''\n",
        "  income = np.sum(data[data>0])\n",
        "  expenses = np.sum(data[data<0])\n",
        "\n",
        "  return(income,expenses)\n",
        "\n",
        "if __name__=='__main__':\n",
        "  ''' This code makes sure that you can store this code as a module and use it for other data that\n",
        "  is not necessary the one provided below. Pretty much it says if you are running all this code alone\n",
        "  then use the data below, but if you save this code as a module file, and apply it to a different data\n",
        "  then it should ignore the data in here.'''\n",
        "  test_data = np.array([-5,12,3,-6,-4,8])\n",
        "\n",
        "''' Create a condition in which if your first transaction is a loss it will not be used, and will be deleted\n",
        "from the test_data. It is like when in school you take 3 tests but only 2 will count towards grades and one\n",
        "is dropped.\n",
        "'''\n",
        "if test_data[0] < 0:\n",
        "  test_data = np.delete(test_data,0)\n",
        "  #see the code above was giving the same test_data variable, so it it can modify it taking test_data[0] out\n",
        "  print('Your first transaction was a loss, so it was dropped')\n",
        "else:\n",
        "  print('Your first transaction was a gain')\n",
        "\n",
        "(myincome,myexpenses) = income_and_expenses(test_data)\n",
        "'''In the code above, since the function returns 2 things, you have to give each a variable\n",
        "so you can use it. Since in the return bracket, income was first, when giving the variables,\n",
        "the variable of the income should be first because it will return in that order'''\n",
        "print(f'You have earned {myincome}  dollars, and spent {myexpenses} dollars')\n",
        "\n",
        "\n",
        "\n",
        "\n",
        "\n",
        "\n",
        "\n"
      ],
      "metadata": {
        "colab": {
          "base_uri": "https://localhost:8080/"
        },
        "id": "smopTQ3i4GFj",
        "outputId": "93db1d4b-9dff-4f89-ac6a-43d957bafd23"
      },
      "execution_count": null,
      "outputs": [
        {
          "output_type": "stream",
          "name": "stdout",
          "text": [
            "Your first transaction was a loss, so it was dropped\n",
            "You have earned 23  dollars, and spent -10 dollars\n"
          ]
        }
      ]
    }
  ]
}