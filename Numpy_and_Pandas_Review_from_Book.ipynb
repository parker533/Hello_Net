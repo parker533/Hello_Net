{
  "nbformat": 4,
  "nbformat_minor": 0,
  "metadata": {
    "colab": {
      "provenance": [],
      "authorship_tag": "ABX9TyN2VCiO9wgyYcyMsLsUCPFS",
      "include_colab_link": true
    },
    "kernelspec": {
      "name": "python3",
      "display_name": "Python 3"
    },
    "language_info": {
      "name": "python"
    }
  },
  "cells": [
    {
      "cell_type": "markdown",
      "metadata": {
        "id": "view-in-github",
        "colab_type": "text"
      },
      "source": [
        "<a href=\"https://colab.research.google.com/github/parker533/Hello_Net/blob/master/Numpy_and_Pandas_Review_from_Book.ipynb\" target=\"_parent\"><img src=\"https://colab.research.google.com/assets/colab-badge.svg\" alt=\"Open In Colab\"/></a>"
      ]
    },
    {
      "cell_type": "markdown",
      "source": [
        "*Numpy*\n",
        "\n",
        "\n",
        "1) Before numpy there was numeric and numarray. Don't use them because those are old.\n",
        "\n",
        "2)Numpy works with arrays, arrays are homogeneous because all the elements in it are the same type and the same size so the dtype of the whole array or the d-type of an element inside the array are the same.\n",
        "\n",
        "3)Its dimensions and number of items are known as its shape.\n",
        "\n",
        "4)Each dimention is known as axes and the number of dimentions is known as rank\n",
        "\n",
        "5) Another thing is their size are fixed. This means with you want to add something to it you have to create a separate array for it.\n",
        "\n",
        "\n",
        "\n",
        "\n",
        "\n"
      ],
      "metadata": {
        "id": "9EIQ0NcZCevR"
      }
    },
    {
      "cell_type": "code",
      "source": [
        "import numpy as np\n",
        "a = np.array([1,2,4,6])\n",
        "print(a)\n",
        "print(type(a))# tells if it is a numpy array\n",
        "print(a.dtype)# tells the datatype it is made off\n",
        "print(a.size)# cuts through the brackets regardless of the dimensions and tells you the element number\n",
        "print(a.ndim)# tells you many axes/rank/levels of square brackets wrapped around\n",
        "print(a.shape)# tells you how many things are in each square bracket"
      ],
      "metadata": {
        "colab": {
          "base_uri": "https://localhost:8080/"
        },
        "id": "yW7A79ceCmbz",
        "outputId": "fe61b000-64bc-48a9-9af4-09d121aaed99"
      },
      "execution_count": null,
      "outputs": [
        {
          "output_type": "stream",
          "name": "stdout",
          "text": [
            "[1 2 4 6]\n",
            "<class 'numpy.ndarray'>\n",
            "int64\n",
            "4\n",
            "1\n",
            "(4,)\n"
          ]
        }
      ]
    },
    {
      "cell_type": "code",
      "source": [
        "b = np.array([[1.3,2.4],[0.3,4.1]])\n",
        "#These things are just used for gathering information on an array\n",
        "print(b)\n",
        "print(b.dtype)\n",
        "print(b.ndim)\n",
        "print(b.size)# see it gave the total\n",
        "print(b.shape)\n",
        "print(b.itemsize)# This tells you the amount of space each element takes in byte"
      ],
      "metadata": {
        "colab": {
          "base_uri": "https://localhost:8080/"
        },
        "id": "wSlGXbYhIudY",
        "outputId": "fed49f4a-3483-4d7f-caad-1bfd40b84108"
      },
      "execution_count": null,
      "outputs": [
        {
          "output_type": "stream",
          "name": "stdout",
          "text": [
            "[[1.3 2.4]\n",
            " [0.3 4.1]]\n",
            "float64\n",
            "2\n",
            "4\n",
            "(2, 2)\n",
            "8\n"
          ]
        }
      ]
    },
    {
      "cell_type": "code",
      "source": [
        "from numpy.core.multiarray import dtype\n",
        "import numpy as np\n",
        "#Creating an array\n",
        "#np.array accepts tuples too, it can also accept a mixture of tuples and list\n",
        "#If you have an array made up of str dtype then to get the dtype use a.dtype.name not just a.dtype\n",
        "# You can change the dtype using the dtype parameter\n",
        "b = np.array([[1.3,2.4],[0.3,4.1]],dtype= float)\n",
        "print(b)\n",
        "print(b.dtype)\n",
        "#INTRINSIC ARRAY CREATION\n",
        "print(np.zeros((3,3)))\n",
        "print(np.ones((3,3),dtype = int))\n",
        "# in-built python range gives you a sequence of numbers which you can put into a list(shown in practice 3 notebook) but np.arange gives you a sequence of numbers in an array\n",
        "c = np.arange(0,10,0.5)\n",
        "d = np.linspace(0,10,5)\n",
        "print(c)\n",
        "print(d)\n",
        "# when doing a reshape,make sure the numbers you put can multiply for you to get the range size\n",
        "cc = np.arange(0,12).reshape((2,3,2))#0-12 has size 12, and 2x3x2 = 12\n",
        "print(cc)\n",
        "aa = np.random.rand(3,3)# random.random and random.rand are the same\n",
        "print(aa)"
      ],
      "metadata": {
        "colab": {
          "base_uri": "https://localhost:8080/"
        },
        "id": "J_tI1XByJAv6",
        "outputId": "902667f7-f7d6-4fc8-d50d-39939255180a"
      },
      "execution_count": null,
      "outputs": [
        {
          "output_type": "stream",
          "name": "stdout",
          "text": [
            "[[1.3 2.4]\n",
            " [0.3 4.1]]\n",
            "float64\n",
            "[[0. 0. 0.]\n",
            " [0. 0. 0.]\n",
            " [0. 0. 0.]]\n",
            "[[1 1 1]\n",
            " [1 1 1]\n",
            " [1 1 1]]\n",
            "[0.  0.5 1.  1.5 2.  2.5 3.  3.5 4.  4.5 5.  5.5 6.  6.5 7.  7.5 8.  8.5\n",
            " 9.  9.5]\n",
            "[ 0.   2.5  5.   7.5 10. ]\n",
            "[[[ 0  1]\n",
            "  [ 2  3]\n",
            "  [ 4  5]]\n",
            "\n",
            " [[ 6  7]\n",
            "  [ 8  9]\n",
            "  [10 11]]]\n",
            "[[0.99253138 0.33230731 0.06674406]\n",
            " [0.44510822 0.39299527 0.2973448 ]\n",
            " [0.23293024 0.18418002 0.938947  ]]\n"
          ]
        }
      ]
    },
    {
      "cell_type": "markdown",
      "source": [
        "It turns out that dimesions/axes are the number of brackets and shape tells you whats in a brackets and not the bracket it's sels so shape(3,3) means there is one bracket with 3 smaller brackets in them and each smaller bracket has 3 things in them."
      ],
      "metadata": {
        "id": "6tcrMeCxzvnC"
      }
    },
    {
      "cell_type": "code",
      "source": [
        "#Want documentation info and help\n",
        "\"\"\"\n",
        "To get documentation on a funtion do\"help(function)\" or \"function?\"\n",
        "Note this cuz it cost you an hour, if a function is associated with a library\n",
        "import that library before you ask for help else will not work.\n",
        "\"\"\"\n",
        "import numpy as np\n",
        "#np.arange?\n",
        "#dir(np) this code gives you all the modules associated with numpy and you can explore further maybe with module name in the documentation."
      ],
      "metadata": {
        "id": "TPijrLQKM6p0"
      },
      "execution_count": null,
      "outputs": []
    },
    {
      "cell_type": "code",
      "source": [
        "#BASIC OPERATIONS--> basic addition and subtructing stuff with array\n",
        "#arithmetic operation\n",
        "# if u add or multiply an array by one number it affects all\n",
        "import numpy as np\n",
        "d = np.arange(6)\n",
        "print((d + 5))\n",
        "'''\n",
        "array by array arithmetic are elementwise, this means that if it is multiplying,\n",
        "it multiply elements that are in the same position in both array and it use the\n",
        "results to create a new array\n",
        "'''\n",
        "dd = np.ones((6,))\n",
        "e = dd + d\n",
        "print(e)\n",
        "print(dd)\n",
        "print((d * np.sin(dd)))\n",
        "print(d + np.sqrt(dd))# np.sqrt is square root and not squared\n",
        "'''\n",
        "In most analytical tools, the * is not used for elementwise multiplication but rather a dot product\n",
        "In python we use np.dot(A,B) for dot product. Not that dot product is not commutative so you cannot\n",
        "switch the arrays cuz first array multiply horizontally and the second vertically\n",
        "'''\n",
        "a = np.dot(e,dd)\n",
        "b = np.dot(dd,e)\n",
        "print(a)#You got just one number because they are both 1 dimensional\n",
        "print(b)\n"
      ],
      "metadata": {
        "colab": {
          "base_uri": "https://localhost:8080/"
        },
        "id": "PKVSv4NgA7Iw",
        "outputId": "9300e8eb-1f59-4e5c-b6a2-d4f1eb218a9f"
      },
      "execution_count": null,
      "outputs": [
        {
          "output_type": "stream",
          "name": "stdout",
          "text": [
            "[ 5  6  7  8  9 10]\n",
            "[1. 2. 3. 4. 5. 6.]\n",
            "[1. 1. 1. 1. 1. 1.]\n",
            "[0.         0.84147098 1.68294197 2.52441295 3.36588394 4.20735492]\n",
            "[1. 2. 3. 4. 5. 6.]\n",
            "21.0\n",
            "21.0\n"
          ]
        }
      ]
    }
  ]
}